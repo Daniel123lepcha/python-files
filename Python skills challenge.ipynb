{
 "cells": [
  {
   "cell_type": "code",
   "execution_count": 19,
   "id": "fe01e616",
   "metadata": {
    "scrolled": true
   },
   "outputs": [
    {
     "name": "stdout",
     "output_type": "stream",
     "text": [
      "apple\n",
      "banana\n",
      "cherry\n"
     ]
    }
   ],
   "source": [
    "#Python Program to sort words in Alphabetic order.\n",
    "words = \"banana,apple,cherry\"              \n",
    "word_list = words.split(\",\")\n",
    "sorted_words = sorted(word_list)\n",
    "for word in sorted_words:\n",
    "    print(word)"
   ]
  },
  {
   "cell_type": "code",
   "execution_count": 20,
   "id": "59679bde",
   "metadata": {},
   "outputs": [
    {
     "name": "stdout",
     "output_type": "stream",
     "text": [
      "Enter the length of the rectangle: 2\n",
      "Enter the width of the rectangle: 3\n",
      "The area of the rectangle is: 6.0\n"
     ]
    }
   ],
   "source": [
    "#Python program to find the area of a rectangle.\n",
    "length = float(input(\"Enter the length of the rectangle: \"))\n",
    "width = float(input(\"Enter the width of the rectangle: \"))\n",
    "area = length * width\n",
    "print(\"The area of the rectangle is:\", area)\n"
   ]
  },
  {
   "cell_type": "code",
   "execution_count": 22,
   "id": "17397b8e",
   "metadata": {},
   "outputs": [
    {
     "name": "stdout",
     "output_type": "stream",
     "text": [
      "The area of the circle is 78.54\n"
     ]
    }
   ],
   "source": [
    "#Python program to find the area of a circle.\n",
    "import math\n",
    "radius = 5\n",
    "area = math.pi * radius**2\n",
    "print(\"The area of the circle is\",round(area, 2))"
   ]
  },
  {
   "cell_type": "code",
   "execution_count": 25,
   "id": "b5fa7378",
   "metadata": {},
   "outputs": [
    {
     "name": "stdout",
     "output_type": "stream",
     "text": [
      "Enter the value of n: 5\n",
      "The sum of cubes of the first 5 natural numbers is: 225\n"
     ]
    }
   ],
   "source": [
    "#Python program to find the cube sum of first \"n\" natural number\n",
    "n = int(input(\"Enter the value of n: \"))\n",
    "sum_of_cubes = 0\n",
    "for i in range(1, n+1):\n",
    "    sum_of_cubes += i**3\n",
    "print(\"The sum of cubes of the first\", n, \"natural numbers is:\", sum_of_cubes)\n"
   ]
  },
  {
   "cell_type": "code",
   "execution_count": null,
   "id": "45391b81",
   "metadata": {},
   "outputs": [],
   "source": []
  }
 ],
 "metadata": {
  "kernelspec": {
   "display_name": "Python 3 (ipykernel)",
   "language": "python",
   "name": "python3"
  },
  "language_info": {
   "codemirror_mode": {
    "name": "ipython",
    "version": 3
   },
   "file_extension": ".py",
   "mimetype": "text/x-python",
   "name": "python",
   "nbconvert_exporter": "python",
   "pygments_lexer": "ipython3",
   "version": "3.10.9"
  }
 },
 "nbformat": 4,
 "nbformat_minor": 5
}
