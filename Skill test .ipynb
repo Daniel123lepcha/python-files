{
 "cells": [
  {
   "cell_type": "code",
   "execution_count": 7,
   "id": "a026b0f0",
   "metadata": {},
   "outputs": [
    {
     "name": "stdout",
     "output_type": "stream",
     "text": [
      "Enter a Alp: s\n",
      "The letter is present in the list\n"
     ]
    }
   ],
   "source": [
    "#Python Program to check if element is present in the list or not\n",
    "user_input = input(\"Enter a Alp: \")\n",
    "my_list = [\"s\",\"d\",\"a\",\"b\",\"c\",\"g\"]\n",
    "if user_input in my_list:\n",
    "    print(\"The letter is present in the list\")\n",
    "else:\n",
    "    print(\"The letter is not present in the list\")  \n",
    "    "
   ]
  },
  {
   "cell_type": "code",
   "execution_count": 8,
   "id": "8f55636b",
   "metadata": {},
   "outputs": [
    {
     "name": "stdout",
     "output_type": "stream",
     "text": [
      "Enter a Number5\n",
      "5 x 1 = 5\n",
      "5 x 2 = 10\n",
      "5 x 3 = 15\n",
      "5 x 4 = 20\n",
      "5 x 5 = 25\n",
      "5 x 6 = 30\n",
      "5 x 7 = 35\n",
      "5 x 8 = 40\n",
      "5 x 9 = 45\n",
      "5 x 10 = 50\n",
      "5 x 11 = 55\n",
      "5 x 12 = 60\n"
     ]
    }
   ],
   "source": [
    "#Python program function that inputa a number and prints the multiplication of that number\n",
    "a= int(input (\"Enter a Number\"))\n",
    "for i in range (1,13):\n",
    "    num = i*a\n",
    "    print(a,\"x\",i,\"=\",num)\n",
    "    \n",
    "    "
   ]
  },
  {
   "cell_type": "code",
   "execution_count": 3,
   "id": "21afd543",
   "metadata": {},
   "outputs": [
    {
     "name": "stdout",
     "output_type": "stream",
     "text": [
      "Enter file name: C:\\Users\\Lenovo\\Desktop\\Skill Challenge 3/Hello World\n",
      "Enter text: Hello World\n"
     ]
    }
   ],
   "source": [
    "#Python Program to open a file and write it to a file\n",
    "filename = input(\"Enter file name: \")\n",
    "with open(filename, 'w') as f:\n",
    "    user_input = input(\"Enter text: \")\n",
    "    f.write(user_input)\n",
    "    \n",
    "    "
   ]
  },
  {
   "cell_type": "code",
   "execution_count": 5,
   "id": "542b8cf6",
   "metadata": {},
   "outputs": [
    {
     "name": "stdout",
     "output_type": "stream",
     "text": [
      "addition 5\n",
      "subtraction 1\n",
      "multiplication 6\n"
     ]
    }
   ],
   "source": [
    "a=3\n",
    "b=2\n",
    "add=(a+b)\n",
    "sub=(a-b)\n",
    "mul=(a*b)\n",
    "print(\"addition\",(a+b))\n",
    "print(\"subtraction\",(a-b))\n",
    "print(\"multiplication\",(a*b))"
   ]
  },
  {
   "cell_type": "code",
   "execution_count": null,
   "id": "9c4a21f3",
   "metadata": {},
   "outputs": [],
   "source": []
  }
 ],
 "metadata": {
  "kernelspec": {
   "display_name": "Python 3 (ipykernel)",
   "language": "python",
   "name": "python3"
  },
  "language_info": {
   "codemirror_mode": {
    "name": "ipython",
    "version": 3
   },
   "file_extension": ".py",
   "mimetype": "text/x-python",
   "name": "python",
   "nbconvert_exporter": "python",
   "pygments_lexer": "ipython3",
   "version": "3.10.9"
  }
 },
 "nbformat": 4,
 "nbformat_minor": 5
}
