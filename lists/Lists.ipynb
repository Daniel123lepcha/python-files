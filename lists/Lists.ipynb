{
 "cells": [
  {
   "cell_type": "code",
   "execution_count": 1,
   "id": "46e55a11",
   "metadata": {},
   "outputs": [],
   "source": [
    "#Lists\n"
   ]
  },
  {
   "cell_type": "code",
   "execution_count": 4,
   "id": "d3a87d7b",
   "metadata": {},
   "outputs": [],
   "source": [
    "my_list= [1,2,3,4,5]"
   ]
  },
  {
   "cell_type": "code",
   "execution_count": 5,
   "id": "151dca43",
   "metadata": {},
   "outputs": [
    {
     "data": {
      "text/plain": [
       "[1, 2, 3, 4, 5]"
      ]
     },
     "execution_count": 5,
     "metadata": {},
     "output_type": "execute_result"
    }
   ],
   "source": [
    "my_list\n"
   ]
  },
  {
   "cell_type": "code",
   "execution_count": 6,
   "id": "0ac5945d",
   "metadata": {},
   "outputs": [],
   "source": [
    "mystring ='HELLO'"
   ]
  },
  {
   "cell_type": "code",
   "execution_count": 7,
   "id": "57bbe835",
   "metadata": {},
   "outputs": [
    {
     "data": {
      "text/plain": [
       "'HELLO'"
      ]
     },
     "execution_count": 7,
     "metadata": {},
     "output_type": "execute_result"
    }
   ],
   "source": [
    "mystring"
   ]
  },
  {
   "cell_type": "code",
   "execution_count": 8,
   "id": "4b6a11ab",
   "metadata": {},
   "outputs": [
    {
     "data": {
      "text/plain": [
       "['H', 'LLO']"
      ]
     },
     "execution_count": 8,
     "metadata": {},
     "output_type": "execute_result"
    }
   ],
   "source": [
    "mystring.split ('E')"
   ]
  },
  {
   "cell_type": "code",
   "execution_count": 9,
   "id": "5ea37dc4",
   "metadata": {},
   "outputs": [
    {
     "data": {
      "text/plain": [
       "[1, 2, 3, 4, 5]"
      ]
     },
     "execution_count": 9,
     "metadata": {},
     "output_type": "execute_result"
    }
   ],
   "source": [
    "my_list"
   ]
  },
  {
   "cell_type": "code",
   "execution_count": 12,
   "id": "bb2e1bc3",
   "metadata": {},
   "outputs": [],
   "source": [
    "my_list =[1,'string',23.2]"
   ]
  },
  {
   "cell_type": "code",
   "execution_count": 13,
   "id": "94a28170",
   "metadata": {},
   "outputs": [
    {
     "data": {
      "text/plain": [
       "[1, 'string', 23.2]"
      ]
     },
     "execution_count": 13,
     "metadata": {},
     "output_type": "execute_result"
    }
   ],
   "source": [
    "my_list\n"
   ]
  },
  {
   "cell_type": "code",
   "execution_count": 14,
   "id": "3758703c",
   "metadata": {},
   "outputs": [
    {
     "data": {
      "text/plain": [
       "3"
      ]
     },
     "execution_count": 14,
     "metadata": {},
     "output_type": "execute_result"
    }
   ],
   "source": [
    "len(my_list)"
   ]
  },
  {
   "cell_type": "code",
   "execution_count": 15,
   "id": "27287289",
   "metadata": {},
   "outputs": [
    {
     "data": {
      "text/plain": [
       "'string'"
      ]
     },
     "execution_count": 15,
     "metadata": {},
     "output_type": "execute_result"
    }
   ],
   "source": [
    "my_list[1] #indexing"
   ]
  },
  {
   "cell_type": "code",
   "execution_count": 16,
   "id": "e2cc5bc7",
   "metadata": {},
   "outputs": [
    {
     "data": {
      "text/plain": [
       "['string', 23.2]"
      ]
     },
     "execution_count": 16,
     "metadata": {},
     "output_type": "execute_result"
    }
   ],
   "source": [
    "my_list [1:]"
   ]
  },
  {
   "cell_type": "code",
   "execution_count": 17,
   "id": "98f8234d",
   "metadata": {},
   "outputs": [
    {
     "data": {
      "text/plain": [
       "[1, 'string', 23.2]"
      ]
     },
     "execution_count": 17,
     "metadata": {},
     "output_type": "execute_result"
    }
   ],
   "source": [
    "my_list"
   ]
  },
  {
   "cell_type": "code",
   "execution_count": 18,
   "id": "05d42faf",
   "metadata": {},
   "outputs": [
    {
     "data": {
      "text/plain": [
       "[1, 'string']"
      ]
     },
     "execution_count": 18,
     "metadata": {},
     "output_type": "execute_result"
    }
   ],
   "source": [
    "my_list [0:2]"
   ]
  },
  {
   "cell_type": "code",
   "execution_count": 19,
   "id": "dca11b51",
   "metadata": {},
   "outputs": [
    {
     "data": {
      "text/plain": [
       "[1, 'string', 23.2]"
      ]
     },
     "execution_count": 19,
     "metadata": {},
     "output_type": "execute_result"
    }
   ],
   "source": [
    "my_list"
   ]
  },
  {
   "cell_type": "code",
   "execution_count": 20,
   "id": "155741cd",
   "metadata": {},
   "outputs": [],
   "source": [
    "second_list = [4,5,'six']"
   ]
  },
  {
   "cell_type": "code",
   "execution_count": 21,
   "id": "0895c166",
   "metadata": {},
   "outputs": [
    {
     "data": {
      "text/plain": [
       "[4, 5, 'six']"
      ]
     },
     "execution_count": 21,
     "metadata": {},
     "output_type": "execute_result"
    }
   ],
   "source": [
    "second_list"
   ]
  },
  {
   "cell_type": "code",
   "execution_count": 22,
   "id": "3879edd5",
   "metadata": {},
   "outputs": [],
   "source": [
    "new_list =my_list +second_list"
   ]
  },
  {
   "cell_type": "code",
   "execution_count": 23,
   "id": "70692783",
   "metadata": {},
   "outputs": [
    {
     "data": {
      "text/plain": [
       "[1, 'string', 23.2, 4, 5, 'six']"
      ]
     },
     "execution_count": 23,
     "metadata": {},
     "output_type": "execute_result"
    }
   ],
   "source": [
    "new_list "
   ]
  },
  {
   "cell_type": "code",
   "execution_count": 24,
   "id": "3613cc5b",
   "metadata": {},
   "outputs": [
    {
     "data": {
      "text/plain": [
       "[4, 5, 'six']"
      ]
     },
     "execution_count": 24,
     "metadata": {},
     "output_type": "execute_result"
    }
   ],
   "source": [
    "second_list"
   ]
  },
  {
   "cell_type": "code",
   "execution_count": 25,
   "id": "2e28d44e",
   "metadata": {},
   "outputs": [],
   "source": [
    "second_list [0] = 'CHANGED'"
   ]
  },
  {
   "cell_type": "code",
   "execution_count": 26,
   "id": "dad0a22f",
   "metadata": {},
   "outputs": [
    {
     "data": {
      "text/plain": [
       "['CHANGED', 5, 'six']"
      ]
     },
     "execution_count": 26,
     "metadata": {},
     "output_type": "execute_result"
    }
   ],
   "source": [
    "second_list"
   ]
  },
  {
   "cell_type": "code",
   "execution_count": 27,
   "id": "254b7493",
   "metadata": {},
   "outputs": [
    {
     "data": {
      "text/plain": [
       "'H'"
      ]
     },
     "execution_count": 27,
     "metadata": {},
     "output_type": "execute_result"
    }
   ],
   "source": [
    "mystring [0]"
   ]
  },
  {
   "cell_type": "code",
   "execution_count": 28,
   "id": "29dbf6f5",
   "metadata": {},
   "outputs": [
    {
     "ename": "TypeError",
     "evalue": "'str' object does not support item assignment",
     "output_type": "error",
     "traceback": [
      "\u001b[1;31m---------------------------------------------------------------------------\u001b[0m",
      "\u001b[1;31mTypeError\u001b[0m                                 Traceback (most recent call last)",
      "Cell \u001b[1;32mIn[28], line 1\u001b[0m\n\u001b[1;32m----> 1\u001b[0m mystring [\u001b[38;5;241m0\u001b[39m] \u001b[38;5;241m=\u001b[39m \u001b[38;5;124m'\u001b[39m\u001b[38;5;124mp\u001b[39m\u001b[38;5;124m'\u001b[39m\n",
      "\u001b[1;31mTypeError\u001b[0m: 'str' object does not support item assignment"
     ]
    }
   ],
   "source": [
    "mystring [0] = 'p'"
   ]
  },
  {
   "cell_type": "code",
   "execution_count": 30,
   "id": "7344d3d7",
   "metadata": {},
   "outputs": [],
   "source": [
    "newstring =mystring [1:]"
   ]
  },
  {
   "cell_type": "code",
   "execution_count": 35,
   "id": "609c94ca",
   "metadata": {},
   "outputs": [
    {
     "data": {
      "text/plain": [
       "'ELLO'"
      ]
     },
     "execution_count": 35,
     "metadata": {},
     "output_type": "execute_result"
    }
   ],
   "source": [
    "newstring"
   ]
  },
  {
   "cell_type": "code",
   "execution_count": 36,
   "id": "551024bb",
   "metadata": {},
   "outputs": [],
   "source": [
    "new_word = \"P\" + newstring"
   ]
  },
  {
   "cell_type": "code",
   "execution_count": 37,
   "id": "1222bd69",
   "metadata": {},
   "outputs": [
    {
     "data": {
      "text/plain": [
       "'PELLO'"
      ]
     },
     "execution_count": 37,
     "metadata": {},
     "output_type": "execute_result"
    }
   ],
   "source": [
    "new_word"
   ]
  },
  {
   "cell_type": "code",
   "execution_count": 38,
   "id": "c95ddb8a",
   "metadata": {},
   "outputs": [
    {
     "data": {
      "text/plain": [
       "['CHANGED', 5, 'six']"
      ]
     },
     "execution_count": 38,
     "metadata": {},
     "output_type": "execute_result"
    }
   ],
   "source": [
    "second_list"
   ]
  },
  {
   "cell_type": "code",
   "execution_count": 39,
   "id": "192e5495",
   "metadata": {},
   "outputs": [],
   "source": [
    "second_list.append ('seven')"
   ]
  },
  {
   "cell_type": "code",
   "execution_count": 40,
   "id": "65094a1c",
   "metadata": {},
   "outputs": [
    {
     "data": {
      "text/plain": [
       "['CHANGED', 5, 'six', 'seven']"
      ]
     },
     "execution_count": 40,
     "metadata": {},
     "output_type": "execute_result"
    }
   ],
   "source": [
    "second_list"
   ]
  },
  {
   "cell_type": "code",
   "execution_count": 43,
   "id": "bce56cb3",
   "metadata": {},
   "outputs": [
    {
     "data": {
      "text/plain": [
       "'seven'"
      ]
     },
     "execution_count": 43,
     "metadata": {},
     "output_type": "execute_result"
    }
   ],
   "source": [
    "second_list.pop(2)"
   ]
  },
  {
   "cell_type": "code",
   "execution_count": 44,
   "id": "7e2c7855",
   "metadata": {},
   "outputs": [
    {
     "data": {
      "text/plain": [
       "['CHANGED', 5]"
      ]
     },
     "execution_count": 44,
     "metadata": {},
     "output_type": "execute_result"
    }
   ],
   "source": [
    "second_list"
   ]
  },
  {
   "cell_type": "code",
   "execution_count": 45,
   "id": "0c667066",
   "metadata": {},
   "outputs": [],
   "source": [
    "new_list = [2,3,'hi',4,5]"
   ]
  },
  {
   "cell_type": "code",
   "execution_count": 47,
   "id": "8b7702e8",
   "metadata": {},
   "outputs": [
    {
     "data": {
      "text/plain": [
       "[2, 3, 'hi', 4, 5]"
      ]
     },
     "execution_count": 47,
     "metadata": {},
     "output_type": "execute_result"
    }
   ],
   "source": [
    "new_list"
   ]
  },
  {
   "cell_type": "code",
   "execution_count": 48,
   "id": "c62870f7",
   "metadata": {},
   "outputs": [
    {
     "data": {
      "text/plain": [
       "5"
      ]
     },
     "execution_count": 48,
     "metadata": {},
     "output_type": "execute_result"
    }
   ],
   "source": [
    "new_list[-1]"
   ]
  },
  {
   "cell_type": "code",
   "execution_count": 49,
   "id": "7e2c7cb5",
   "metadata": {},
   "outputs": [],
   "source": [
    "new_list = ['a','x','c','z','b']\n",
    "num_list = [5,7,1,2,8]"
   ]
  },
  {
   "cell_type": "code",
   "execution_count": 50,
   "id": "125dbc55",
   "metadata": {},
   "outputs": [],
   "source": [
    "num_list.sort()"
   ]
  },
  {
   "cell_type": "code",
   "execution_count": 51,
   "id": "b97a41a1",
   "metadata": {},
   "outputs": [],
   "source": [
    "sorted_list = num_list"
   ]
  },
  {
   "cell_type": "code",
   "execution_count": 52,
   "id": "8b2ece30",
   "metadata": {},
   "outputs": [
    {
     "data": {
      "text/plain": [
       "[1, 2, 5, 7, 8]"
      ]
     },
     "execution_count": 52,
     "metadata": {},
     "output_type": "execute_result"
    }
   ],
   "source": [
    "sorted_list"
   ]
  },
  {
   "cell_type": "code",
   "execution_count": 53,
   "id": "f3fc593d",
   "metadata": {},
   "outputs": [],
   "source": [
    "new_list.reverse()"
   ]
  },
  {
   "cell_type": "code",
   "execution_count": 60,
   "id": "4201f3fb",
   "metadata": {},
   "outputs": [],
   "source": [
    "reversed_list = new_list"
   ]
  },
  {
   "cell_type": "code",
   "execution_count": 61,
   "id": "e84f0bd9",
   "metadata": {},
   "outputs": [
    {
     "data": {
      "text/plain": [
       "['b', 'z', 'c', 'x', 'a']"
      ]
     },
     "execution_count": 61,
     "metadata": {},
     "output_type": "execute_result"
    }
   ],
   "source": [
    "reversed_list"
   ]
  },
  {
   "cell_type": "code",
   "execution_count": 62,
   "id": "871ef7c9",
   "metadata": {},
   "outputs": [],
   "source": [
    "b = None"
   ]
  },
  {
   "cell_type": "code",
   "execution_count": 63,
   "id": "18889147",
   "metadata": {},
   "outputs": [],
   "source": [
    "my_list = [5,1,(1,2)]"
   ]
  },
  {
   "cell_type": "code",
   "execution_count": 64,
   "id": "2f77ef87",
   "metadata": {},
   "outputs": [
    {
     "data": {
      "text/plain": [
       "[5, 1, (1, 2)]"
      ]
     },
     "execution_count": 64,
     "metadata": {},
     "output_type": "execute_result"
    }
   ],
   "source": [
    "my_list"
   ]
  },
  {
   "cell_type": "code",
   "execution_count": 65,
   "id": "5cafc7b5",
   "metadata": {},
   "outputs": [
    {
     "data": {
      "text/plain": [
       "5"
      ]
     },
     "execution_count": 65,
     "metadata": {},
     "output_type": "execute_result"
    }
   ],
   "source": [
    "my_list[0]"
   ]
  },
  {
   "cell_type": "code",
   "execution_count": 66,
   "id": "c90b37c8",
   "metadata": {},
   "outputs": [
    {
     "data": {
      "text/plain": [
       "2"
      ]
     },
     "execution_count": 66,
     "metadata": {},
     "output_type": "execute_result"
    }
   ],
   "source": [
    "my_list[2][1]"
   ]
  },
  {
   "cell_type": "code",
   "execution_count": 1,
   "id": "6b4d5cbd",
   "metadata": {},
   "outputs": [],
   "source": [
    "#if lst = [0,1,2] what is the result of lst.pop ()"
   ]
  },
  {
   "cell_type": "code",
   "execution_count": 4,
   "id": "b341f8dd",
   "metadata": {},
   "outputs": [
    {
     "data": {
      "text/plain": [
       "2"
      ]
     },
     "execution_count": 4,
     "metadata": {},
     "output_type": "execute_result"
    }
   ],
   "source": [
    "lst=[0,1,2]\n",
    "lst.pop()"
   ]
  },
  {
   "cell_type": "code",
   "execution_count": 5,
   "id": "7703475b",
   "metadata": {},
   "outputs": [
    {
     "data": {
      "text/plain": [
       "[0, 1]"
      ]
     },
     "execution_count": 5,
     "metadata": {},
     "output_type": "execute_result"
    }
   ],
   "source": [
    "lst"
   ]
  },
  {
   "cell_type": "code",
   "execution_count": 7,
   "id": "a6c5a3f2",
   "metadata": {},
   "outputs": [],
   "source": [
    "#Dictionaries"
   ]
  },
  {
   "cell_type": "code",
   "execution_count": 17,
   "id": "ddac961a",
   "metadata": {},
   "outputs": [],
   "source": [
    "my_dict ={'key1':'value1','key'} "
   ]
  },
  {
   "cell_type": "code",
   "execution_count": 19,
   "id": "44489de8",
   "metadata": {},
   "outputs": [
    {
     "data": {
      "text/plain": [
       "('key1value1', 'key2value2', 'key3value3')"
      ]
     },
     "execution_count": 19,
     "metadata": {},
     "output_type": "execute_result"
    }
   ],
   "source": [
    "my_dict\n"
   ]
  },
  {
   "cell_type": "code",
   "execution_count": null,
   "id": "656e21e6",
   "metadata": {},
   "outputs": [],
   "source": []
  }
 ],
 "metadata": {
  "kernelspec": {
   "display_name": "Python 3 (ipykernel)",
   "language": "python",
   "name": "python3"
  },
  "language_info": {
   "codemirror_mode": {
    "name": "ipython",
    "version": 3
   },
   "file_extension": ".py",
   "mimetype": "text/x-python",
   "name": "python",
   "nbconvert_exporter": "python",
   "pygments_lexer": "ipython3",
   "version": "3.10.9"
  }
 },
 "nbformat": 4,
 "nbformat_minor": 5
}
