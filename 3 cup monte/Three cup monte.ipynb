{
 "cells": [
  {
   "cell_type": "code",
   "execution_count": 1,
   "id": "24affff9",
   "metadata": {},
   "outputs": [],
   "source": [
    "example = [1,2,3,4,5,6]"
   ]
  },
  {
   "cell_type": "code",
   "execution_count": 2,
   "id": "02c928f4",
   "metadata": {},
   "outputs": [
    {
     "data": {
      "text/plain": [
       "[1, 2, 3, 4, 5, 6]"
      ]
     },
     "execution_count": 2,
     "metadata": {},
     "output_type": "execute_result"
    }
   ],
   "source": [
    "example"
   ]
  },
  {
   "cell_type": "code",
   "execution_count": 3,
   "id": "e8af944e",
   "metadata": {},
   "outputs": [],
   "source": [
    "from random import shuffle "
   ]
  },
  {
   "cell_type": "code",
   "execution_count": 4,
   "id": "d90eebd5",
   "metadata": {},
   "outputs": [],
   "source": [
    "result =shuffle(example)"
   ]
  },
  {
   "cell_type": "code",
   "execution_count": 5,
   "id": "7bfc67f9",
   "metadata": {},
   "outputs": [],
   "source": [
    "result"
   ]
  },
  {
   "cell_type": "code",
   "execution_count": 11,
   "id": "404ad24f",
   "metadata": {},
   "outputs": [],
   "source": [
    "mylist = [1,2,3,4,5]\n",
    "def shuffle_list(mylist):\n",
    "    shuffle(mylist)\n",
    "    return mylist"
   ]
  },
  {
   "cell_type": "code",
   "execution_count": 12,
   "id": "87401392",
   "metadata": {},
   "outputs": [],
   "source": [
    "result = shuffle_list(mylist)"
   ]
  },
  {
   "cell_type": "code",
   "execution_count": 13,
   "id": "99da9ec8",
   "metadata": {},
   "outputs": [
    {
     "data": {
      "text/plain": [
       "[3, 5, 1, 2, 4]"
      ]
     },
     "execution_count": 13,
     "metadata": {},
     "output_type": "execute_result"
    }
   ],
   "source": [
    "result"
   ]
  },
  {
   "cell_type": "code",
   "execution_count": 17,
   "id": "357d6c87",
   "metadata": {},
   "outputs": [],
   "source": [
    "def player_guess():\n",
    "    guess = ''\n",
    "    while guess not in['0','1','2']:\n",
    "        guess = input ('Enter your choice 0,1 or2')\n",
    "        return int(guess)"
   ]
  },
  {
   "cell_type": "code",
   "execution_count": 18,
   "id": "41d669c9",
   "metadata": {},
   "outputs": [
    {
     "name": "stdout",
     "output_type": "stream",
     "text": [
      "Enter your choice 0,1 or22\n"
     ]
    }
   ],
   "source": [
    "myindex = player_guess()"
   ]
  },
  {
   "cell_type": "code",
   "execution_count": 19,
   "id": "21503d5b",
   "metadata": {},
   "outputs": [
    {
     "data": {
      "text/plain": [
       "2"
      ]
     },
     "execution_count": 19,
     "metadata": {},
     "output_type": "execute_result"
    }
   ],
   "source": [
    "myindex"
   ]
  },
  {
   "cell_type": "code",
   "execution_count": 20,
   "id": "7a4402a6",
   "metadata": {},
   "outputs": [],
   "source": [
    "def check_guess(mylist,guess):\n",
    "    if mylist[guess] == '0':\n",
    "        print('Correct guess')\n",
    "    else:\n",
    "        print('Wrong guess')\n",
    "        print(mylist)"
   ]
  },
  {
   "cell_type": "code",
   "execution_count": 21,
   "id": "6e196bfb",
   "metadata": {},
   "outputs": [
    {
     "name": "stdout",
     "output_type": "stream",
     "text": [
      "Enter your choice 0,1 or22\n",
      "Wrong guess\n",
      "['0', '', '']\n"
     ]
    }
   ],
   "source": [
    "#Initial list \n",
    "mylist = ['','0','']\n",
    "#Shuffle Function\n",
    "mixedup_list = shuffle_list(mylist)\n",
    "#User guess\n",
    "guess = player_guess()\n",
    "\n",
    "#Check guess\n",
    "check_guess(mixedup_list,guess)"
   ]
  },
  {
   "cell_type": "code",
   "execution_count": null,
   "id": "0fa08715",
   "metadata": {},
   "outputs": [],
   "source": [
    "from random import shuffle\n",
    "def my_random_list(myfirstlist):\n",
    "    shuffle(myfirstlist)\n",
    "    return myfirstlist\n",
    "def user_guess():\n",
    "    guessed = ''\n",
    "    while guessed not in ['0','1','2']:\n",
    "        guessed = input('Pick a number 0,1 or 2')\n",
    "    return int(guessed)\n",
    "def checking_user_guess(myfirstlist,guessed):\n",
    "    if myfirstlist[guessed] == '0':\n",
    "        print('Correct')\n",
    "    else:\n",
    "        print('Wrong Choice')\n",
    "        print(myfirstlist)\n",
    "#Initial list\n",
    "myfirstlist = ['0','','']\n",
    "#SHUFFLE LIST\n"
   ]
  }
 ],
 "metadata": {
  "kernelspec": {
   "display_name": "Python 3 (ipykernel)",
   "language": "python",
   "name": "python3"
  },
  "language_info": {
   "codemirror_mode": {
    "name": "ipython",
    "version": 3
   },
   "file_extension": ".py",
   "mimetype": "text/x-python",
   "name": "python",
   "nbconvert_exporter": "python",
   "pygments_lexer": "ipython3",
   "version": "3.10.9"
  }
 },
 "nbformat": 4,
 "nbformat_minor": 5
}
