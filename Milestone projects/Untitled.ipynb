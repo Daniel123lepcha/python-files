{
 "cells": [
  {
   "cell_type": "code",
   "execution_count": 6,
   "id": "84a30a58",
   "metadata": {},
   "outputs": [
    {
     "name": "stdout",
     "output_type": "stream",
     "text": [
      "How many dice do you want to roll? [1-6] 4\n"
     ]
    }
   ],
   "source": [
    "# dice.py\n",
    "\n",
    "# ~~~ App's main code block ~~~\n",
    "# 1. Get and validate user's input\n",
    "num_dice_input = input(\"How many dice do you want to roll? [1-6] \")\n",
    "num_dice = parse_input(num_dice_input)"
   ]
  },
  {
   "cell_type": "code",
   "execution_count": 5,
   "id": "c4abcc6a",
   "metadata": {},
   "outputs": [],
   "source": [
    "def parse_input(input_string):\n",
    "    if input_string.strip() in {\"1\", \"2\", \"3\", \"4\", \"5\", \"6\"}:\n",
    "        return int(input_string)\n",
    "    else:\n",
    "        print(\"Please enter a number from 1 to 6.\")\n",
    "        raise SystemExit(1)"
   ]
  },
  {
   "cell_type": "code",
   "execution_count": 9,
   "id": "fba32e41",
   "metadata": {},
   "outputs": [],
   "source": [
    "import random\n",
    "\n",
    "# ...\n",
    "\n",
    "def roll_dice(num_dice):\n",
    "    \"\"\"Return a list of integers with length `num_dice`.\n",
    "\n",
    "    Each integer in the returned list is a random number between\n",
    "    1 and 6, inclusive.\n",
    "    \"\"\"\n",
    "    roll_results = []\n",
    "    for _ in range(num_dice):\n",
    "        roll = random.randint(1, 6)\n",
    "        roll_results.append(roll)\n",
    "    return roll_results\n",
    "\n",
    "# ~~~ App's main code block ~~~\n",
    "# ..."
   ]
  },
  {
   "cell_type": "code",
   "execution_count": 10,
   "id": "3d350a35",
   "metadata": {},
   "outputs": [
    {
     "name": "stdout",
     "output_type": "stream",
     "text": [
      "How many dice do you want to roll? [1-6] 1\n",
      "[6]\n"
     ]
    }
   ],
   "source": [
    "# dice.py\n",
    "# ...\n",
    "\n",
    "# ~~~ App's main code block ~~~\n",
    "# 1. Get and validate user's input\n",
    "num_dice_input = input(\"How many dice do you want to roll? [1-6] \")\n",
    "num_dice = parse_input(num_dice_input)\n",
    "# 2. Roll the dice\n",
    "roll_results = roll_dice(num_dice)\n",
    "\n",
    "print(roll_results)  # Remove this line after testing the app"
   ]
  },
  {
   "cell_type": "code",
   "execution_count": null,
   "id": "a1b272d0",
   "metadata": {},
   "outputs": [],
   "source": []
  }
 ],
 "metadata": {
  "kernelspec": {
   "display_name": "Python 3 (ipykernel)",
   "language": "python",
   "name": "python3"
  },
  "language_info": {
   "codemirror_mode": {
    "name": "ipython",
    "version": 3
   },
   "file_extension": ".py",
   "mimetype": "text/x-python",
   "name": "python",
   "nbconvert_exporter": "python",
   "pygments_lexer": "ipython3",
   "version": "3.10.9"
  }
 },
 "nbformat": 4,
 "nbformat_minor": 5
}
