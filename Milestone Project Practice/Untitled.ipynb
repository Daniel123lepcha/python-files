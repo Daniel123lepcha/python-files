{
 "cells": [
  {
   "cell_type": "code",
   "execution_count": 10,
   "id": "3f6249e3",
   "metadata": {},
   "outputs": [
    {
     "name": "stdout",
     "output_type": "stream",
     "text": [
      "[1, 2, 3]\n"
     ]
    }
   ],
   "source": [
    "print([1,2,3])\n"
   ]
  },
  {
   "cell_type": "code",
   "execution_count": 11,
   "id": "eb1c2853",
   "metadata": {},
   "outputs": [
    {
     "name": "stdout",
     "output_type": "stream",
     "text": [
      "[1, 2, 3]\n",
      "[4, 5, 6]\n",
      "[7, 8, 9]\n"
     ]
    }
   ],
   "source": [
    "print([1,2,3])\n",
    "print([4,5,6])\n",
    "print([7,8,9])\n"
   ]
  },
  {
   "cell_type": "code",
   "execution_count": 12,
   "id": "c48f0bf0",
   "metadata": {},
   "outputs": [],
   "source": [
    "def display(row1,row2,row3):\n",
    "    print(row1)\n",
    "    print(row2)\n",
    "    print(row3)\n"
   ]
  },
  {
   "cell_type": "code",
   "execution_count": 13,
   "id": "0cabe973",
   "metadata": {},
   "outputs": [],
   "source": [
    "example_row=[1,2,3]"
   ]
  },
  {
   "cell_type": "code",
   "execution_count": 14,
   "id": "5c741a97",
   "metadata": {},
   "outputs": [
    {
     "name": "stdout",
     "output_type": "stream",
     "text": [
      "[1, 2, 3]\n",
      "[1, 2, 3]\n",
      "[1, 2, 3]\n"
     ]
    }
   ],
   "source": [
    "display (example_row,example_row,example_row)"
   ]
  },
  {
   "cell_type": "code",
   "execution_count": 15,
   "id": "3f771a8b",
   "metadata": {},
   "outputs": [],
   "source": [
    "def display(row1,row2,row3):\n",
    "    print(row1)\n",
    "    print(row2)\n",
    "    print(row3)"
   ]
  },
  {
   "cell_type": "code",
   "execution_count": 16,
   "id": "4fc88f99",
   "metadata": {},
   "outputs": [],
   "source": [
    "row1 = ['','','']\n",
    "row2 = ['','','']\n",
    "row3 = ['','','']"
   ]
  },
  {
   "cell_type": "code",
   "execution_count": 17,
   "id": "99866c8c",
   "metadata": {},
   "outputs": [
    {
     "name": "stdout",
     "output_type": "stream",
     "text": [
      "['', '', '']\n",
      "['', '', '']\n",
      "['', '', '']\n"
     ]
    }
   ],
   "source": [
    "display(row1,row2,row3)\n"
   ]
  },
  {
   "cell_type": "code",
   "execution_count": 18,
   "id": "f60bad9f",
   "metadata": {},
   "outputs": [],
   "source": [
    "row2 [1] = 'x'"
   ]
  },
  {
   "cell_type": "code",
   "execution_count": 19,
   "id": "353776cd",
   "metadata": {},
   "outputs": [
    {
     "name": "stdout",
     "output_type": "stream",
     "text": [
      "['', '', '']\n",
      "['', 'x', '']\n",
      "['', '', '']\n"
     ]
    }
   ],
   "source": [
    "display(row1,row2,row3)"
   ]
  },
  {
   "cell_type": "code",
   "execution_count": 22,
   "id": "b1cf06cf",
   "metadata": {},
   "outputs": [
    {
     "name": "stdout",
     "output_type": "stream",
     "text": [
      "Please enter a value4\n"
     ]
    },
    {
     "data": {
      "text/plain": [
       "'4'"
      ]
     },
     "execution_count": 22,
     "metadata": {},
     "output_type": "execute_result"
    }
   ],
   "source": [
    "input('Please enter a value')"
   ]
  },
  {
   "cell_type": "code",
   "execution_count": 23,
   "id": "ca7f0ec6",
   "metadata": {},
   "outputs": [
    {
     "name": "stdout",
     "output_type": "stream",
     "text": [
      "Please enetr a value5\n"
     ]
    }
   ],
   "source": [
    "result = input('Please enetr a value')\n"
   ]
  },
  {
   "cell_type": "code",
   "execution_count": 24,
   "id": "048f407a",
   "metadata": {},
   "outputs": [
    {
     "data": {
      "text/plain": [
       "'5'"
      ]
     },
     "execution_count": 24,
     "metadata": {},
     "output_type": "execute_result"
    }
   ],
   "source": [
    "result"
   ]
  },
  {
   "cell_type": "code",
   "execution_count": 25,
   "id": "120e455b",
   "metadata": {},
   "outputs": [
    {
     "data": {
      "text/plain": [
       "str"
      ]
     },
     "execution_count": 25,
     "metadata": {},
     "output_type": "execute_result"
    }
   ],
   "source": [
    "type(result)"
   ]
  },
  {
   "cell_type": "code",
   "execution_count": 26,
   "id": "486790e1",
   "metadata": {},
   "outputs": [],
   "source": [
    "result_int = int (result)"
   ]
  },
  {
   "cell_type": "code",
   "execution_count": 27,
   "id": "0c32d0a5",
   "metadata": {},
   "outputs": [
    {
     "data": {
      "text/plain": [
       "int"
      ]
     },
     "execution_count": 27,
     "metadata": {},
     "output_type": "execute_result"
    }
   ],
   "source": [
    "type(result_int)"
   ]
  },
  {
   "cell_type": "code",
   "execution_count": 28,
   "id": "dbe19d2e",
   "metadata": {},
   "outputs": [
    {
     "data": {
      "text/plain": [
       "float"
      ]
     },
     "execution_count": 28,
     "metadata": {},
     "output_type": "execute_result"
    }
   ],
   "source": [
    "type(2.13)"
   ]
  },
  {
   "cell_type": "code",
   "execution_count": 29,
   "id": "eb6e02c2",
   "metadata": {},
   "outputs": [
    {
     "data": {
      "text/plain": [
       "2.13"
      ]
     },
     "execution_count": 29,
     "metadata": {},
     "output_type": "execute_result"
    }
   ],
   "source": [
    "float('2.13')"
   ]
  },
  {
   "cell_type": "code",
   "execution_count": 33,
   "id": "f4400f19",
   "metadata": {},
   "outputs": [
    {
     "name": "stdout",
     "output_type": "stream",
     "text": [
      "Choose an index position2\n"
     ]
    }
   ],
   "source": [
    "position_index = int(input(\"Choose an index position\"))"
   ]
  },
  {
   "cell_type": "code",
   "execution_count": 34,
   "id": "7c75d1a3",
   "metadata": {},
   "outputs": [
    {
     "data": {
      "text/plain": [
       "['', '', '']"
      ]
     },
     "execution_count": 34,
     "metadata": {},
     "output_type": "execute_result"
    }
   ],
   "source": [
    "row1"
   ]
  },
  {
   "cell_type": "code",
   "execution_count": 35,
   "id": "d98c48fd",
   "metadata": {},
   "outputs": [
    {
     "data": {
      "text/plain": [
       "int"
      ]
     },
     "execution_count": 35,
     "metadata": {},
     "output_type": "execute_result"
    }
   ],
   "source": [
    "type(position_index)"
   ]
  },
  {
   "cell_type": "code",
   "execution_count": 36,
   "id": "bc463673",
   "metadata": {},
   "outputs": [
    {
     "data": {
      "text/plain": [
       "''"
      ]
     },
     "execution_count": 36,
     "metadata": {},
     "output_type": "execute_result"
    }
   ],
   "source": [
    "row2[position_index]"
   ]
  },
  {
   "cell_type": "code",
   "execution_count": 37,
   "id": "213335f6",
   "metadata": {},
   "outputs": [
    {
     "name": "stdout",
     "output_type": "stream",
     "text": [
      "Enter a number5\n"
     ]
    }
   ],
   "source": [
    "result = input('Enter a number') "
   ]
  },
  {
   "cell_type": "code",
   "execution_count": 38,
   "id": "b0769e36",
   "metadata": {},
   "outputs": [
    {
     "data": {
      "text/plain": [
       "4"
      ]
     },
     "execution_count": 38,
     "metadata": {},
     "output_type": "execute_result"
    }
   ],
   "source": [
    "2+2"
   ]
  },
  {
   "cell_type": "code",
   "execution_count": 39,
   "id": "4b4934d1",
   "metadata": {},
   "outputs": [],
   "source": [
    "def user_choice() :\n",
    "    choice = input('Enter a number 0-10: ')\n",
    "    return int ( choice)"
   ]
  },
  {
   "cell_type": "code",
   "execution_count": 41,
   "id": "3800cc6e",
   "metadata": {},
   "outputs": [
    {
     "name": "stdout",
     "output_type": "stream",
     "text": [
      "Enter a number 0-10: 5\n"
     ]
    },
    {
     "data": {
      "text/plain": [
       "5"
      ]
     },
     "execution_count": 41,
     "metadata": {},
     "output_type": "execute_result"
    }
   ],
   "source": [
    "user_choice()"
   ]
  },
  {
   "cell_type": "code",
   "execution_count": 42,
   "id": "0db263df",
   "metadata": {},
   "outputs": [],
   "source": [
    "some_value = '100'"
   ]
  },
  {
   "cell_type": "code",
   "execution_count": 43,
   "id": "181e0db2",
   "metadata": {},
   "outputs": [
    {
     "data": {
      "text/plain": [
       "True"
      ]
     },
     "execution_count": 43,
     "metadata": {},
     "output_type": "execute_result"
    }
   ],
   "source": [
    "some_value.isdigit()"
   ]
  },
  {
   "cell_type": "code",
   "execution_count": 44,
   "id": "fe9ce09c",
   "metadata": {},
   "outputs": [
    {
     "data": {
      "text/plain": [
       "str"
      ]
     },
     "execution_count": 44,
     "metadata": {},
     "output_type": "execute_result"
    }
   ],
   "source": [
    "type(some_value)"
   ]
  },
  {
   "cell_type": "code",
   "execution_count": 45,
   "id": "044dbcad",
   "metadata": {},
   "outputs": [
    {
     "data": {
      "text/plain": [
       "100"
      ]
     },
     "execution_count": 45,
     "metadata": {},
     "output_type": "execute_result"
    }
   ],
   "source": [
    "int(some_value)"
   ]
  },
  {
   "cell_type": "code",
   "execution_count": 46,
   "id": "6390f6d8",
   "metadata": {},
   "outputs": [],
   "source": [
    "def user_choice () :\n",
    "    choice = \"WRONG\"\n",
    "    while choice.isdigit () == False:\n",
    "        choice = input(\"Please enter a number 0-10  :\")\n",
    "        return int(choice)"
   ]
  },
  {
   "cell_type": "code",
   "execution_count": 49,
   "id": "3d3a70ea",
   "metadata": {},
   "outputs": [
    {
     "name": "stdout",
     "output_type": "stream",
     "text": [
      "Please enter a number 0-10  :10\n"
     ]
    },
    {
     "data": {
      "text/plain": [
       "10"
      ]
     },
     "execution_count": 49,
     "metadata": {},
     "output_type": "execute_result"
    }
   ],
   "source": [
    "user_choice()"
   ]
  },
  {
   "cell_type": "code",
   "execution_count": 51,
   "id": "0189c221",
   "metadata": {},
   "outputs": [],
   "source": [
    "def user_choice() :\n",
    "    choice = \"Wrong\"\n",
    "    while choice.isdigit() == False:\n",
    "        choice = input(\"Please enter a number 0-10 :\")\n",
    "    if choice.isdigit() == False:\n",
    "        print(\"Sorry that is not a digit\")\n",
    "        return int(choice)"
   ]
  },
  {
   "cell_type": "code",
   "execution_count": 52,
   "id": "02547b59",
   "metadata": {},
   "outputs": [
    {
     "name": "stdout",
     "output_type": "stream",
     "text": [
      "Please enter a number 0-10 :1000\n"
     ]
    }
   ],
   "source": [
    "user_choice()"
   ]
  },
  {
   "cell_type": "code",
   "execution_count": 53,
   "id": "bd34016b",
   "metadata": {},
   "outputs": [],
   "source": [
    "result = \"WRONG VALUE\""
   ]
  },
  {
   "cell_type": "code",
   "execution_count": 56,
   "id": "a5ec0abf",
   "metadata": {},
   "outputs": [],
   "source": [
    "acceptable_value = [0,1,2]"
   ]
  },
  {
   "cell_type": "code",
   "execution_count": 58,
   "id": "9d5fb29f",
   "metadata": {},
   "outputs": [
    {
     "data": {
      "text/plain": [
       "False"
      ]
     },
     "execution_count": 58,
     "metadata": {},
     "output_type": "execute_result"
    }
   ],
   "source": [
    "result in acceptable_value"
   ]
  },
  {
   "cell_type": "code",
   "execution_count": 59,
   "id": "16484c5c",
   "metadata": {},
   "outputs": [
    {
     "data": {
      "text/plain": [
       "True"
      ]
     },
     "execution_count": 59,
     "metadata": {},
     "output_type": "execute_result"
    }
   ],
   "source": [
    "result not in acceptable_value"
   ]
  },
  {
   "cell_type": "code",
   "execution_count": 60,
   "id": "78e5a1ca",
   "metadata": {},
   "outputs": [],
   "source": [
    "def user_choice() :\n",
    "    #Variables\n",
    "    #Initial\n",
    "    choice = \"WRONG\"\n",
    "    acceptable_range = range(0,10)\n",
    "    within_range = False\n",
    "    #two conditions to check\n",
    "    #digit or within range == False\n",
    "    while choice.isdigit() == False or within_range == False:\n",
    "        choice = input (\"Please enter a number 0-10: \")\n",
    "        #digit check\n",
    "        if choice.isdigit() == False:\n",
    "            print(\"Sorry that is not a digit\")\n",
    "         #range check\n",
    "        if choice.isdigit() == True:\n",
    "            if int(choice) in acceptable_range:\n",
    "                within_range = True\n",
    "            else:\n",
    "                print(\"Sorry you are out of acceptable range 0-10\")\n",
    "                within_range = False\n",
    "                return int(choice)"
   ]
  },
  {
   "cell_type": "code",
   "execution_count": 63,
   "id": "18895387",
   "metadata": {},
   "outputs": [
    {
     "name": "stdout",
     "output_type": "stream",
     "text": [
      "Please enter a number 0-10: two\n",
      "Sorry that is not a digit\n",
      "Please enter a number 0-10: three\n",
      "Sorry that is not a digit\n",
      "Please enter a number 0-10: 5\n"
     ]
    }
   ],
   "source": [
    "user_choice()"
   ]
  },
  {
   "cell_type": "code",
   "execution_count": 64,
   "id": "5ccdd013",
   "metadata": {},
   "outputs": [],
   "source": [
    "game_list = [0,1,2]\n",
    "def display_game(game_list):\n",
    "    print(\"Here is the current list\")\n",
    "    print(game_list)"
   ]
  },
  {
   "cell_type": "code",
   "execution_count": 65,
   "id": "b58b0b1f",
   "metadata": {},
   "outputs": [
    {
     "name": "stdout",
     "output_type": "stream",
     "text": [
      "Here is the current list\n",
      "[0, 1, 2]\n"
     ]
    }
   ],
   "source": [
    "display_game(game_list)"
   ]
  },
  {
   "cell_type": "code",
   "execution_count": 66,
   "id": "672b9ace",
   "metadata": {},
   "outputs": [],
   "source": [
    "def position_choice():\n",
    "    choice = \"wrong\"\n",
    "    while choice not in [\"0\",\"1\",\"2\"] :\n",
    "        choice = input(\"Pick a number 0,1,2: \")\n",
    "        if choice not in [\"0\",\"1\",\"2\"] :\n",
    "            print(\"Sorry invalid choice\")\n",
    "            return int(choice)"
   ]
  },
  {
   "cell_type": "code",
   "execution_count": 69,
   "id": "3259c40c",
   "metadata": {},
   "outputs": [
    {
     "name": "stdout",
     "output_type": "stream",
     "text": [
      "Pick a number 0,1,2: 1\n"
     ]
    }
   ],
   "source": [
    "position_choice()"
   ]
  },
  {
   "cell_type": "code",
   "execution_count": 71,
   "id": "71ab3451",
   "metadata": {},
   "outputs": [],
   "source": [
    "def replacement_choice(game_list,position) :\n",
    "    user_replacement = input(\"Enter a string to place at position \")\n",
    "    game_list[position] = user_replacement\n",
    "    return game_list"
   ]
  },
  {
   "cell_type": "code",
   "execution_count": 72,
   "id": "5a76c6f6",
   "metadata": {},
   "outputs": [
    {
     "name": "stdout",
     "output_type": "stream",
     "text": [
      "Enter a string to place at position [0, \"new\", 2]\n"
     ]
    },
    {
     "data": {
      "text/plain": [
       "[0, '[0, \"new\", 2]', 2]"
      ]
     },
     "execution_count": 72,
     "metadata": {},
     "output_type": "execute_result"
    }
   ],
   "source": [
    "replacement_choice(game_list,1)"
   ]
  },
  {
   "cell_type": "code",
   "execution_count": 77,
   "id": "0c5006e6",
   "metadata": {},
   "outputs": [],
   "source": [
    "def gameon_choice() :\n",
    "    choice = \"wrong\"\n",
    "    while choice not in [\"Y\",\"N\"] :\n",
    "        choice = input(\"Keep Playing? :(Y or N) \")\n",
    "        if choice not in [\"Y\",\"N\"] :\n",
    "            print(\"Sorry I do not understand ! Please choose Y or N \")\n",
    "            if choice == \"Y\":\n",
    "                return True\n",
    "            else:\n",
    "                return False"
   ]
  },
  {
   "cell_type": "code",
   "execution_count": 78,
   "id": "8f3ce366",
   "metadata": {},
   "outputs": [
    {
     "name": "stdout",
     "output_type": "stream",
     "text": [
      "Keep Playing? :(Y or N) Y\n"
     ]
    }
   ],
   "source": [
    "gameon_choice()"
   ]
  },
  {
   "cell_type": "code",
   "execution_count": null,
   "id": "976e61d2",
   "metadata": {},
   "outputs": [
    {
     "name": "stdout",
     "output_type": "stream",
     "text": [
      "Here is the current list\n",
      "[0, 1, 2]\n",
      "Pick a number 0,1,2: 0\n"
     ]
    }
   ],
   "source": [
    "gameon = True\n",
    "game_list = [0,1,2]\n",
    "while gameon:\n",
    "    display_game(game_list)\n",
    "    position = position_choice()\n",
    "    game_list = replacement_choice(game_list,position)\n",
    "    display_game(game_list)\n",
    "    gameon = gameon_choice()\n",
    "    "
   ]
  },
  {
   "cell_type": "code",
   "execution_count": null,
   "id": "5666d493",
   "metadata": {},
   "outputs": [],
   "source": []
  }
 ],
 "metadata": {
  "kernelspec": {
   "display_name": "Python 3 (ipykernel)",
   "language": "python",
   "name": "python3"
  },
  "language_info": {
   "codemirror_mode": {
    "name": "ipython",
    "version": 3
   },
   "file_extension": ".py",
   "mimetype": "text/x-python",
   "name": "python",
   "nbconvert_exporter": "python",
   "pygments_lexer": "ipython3",
   "version": "3.10.9"
  }
 },
 "nbformat": 4,
 "nbformat_minor": 5
}
