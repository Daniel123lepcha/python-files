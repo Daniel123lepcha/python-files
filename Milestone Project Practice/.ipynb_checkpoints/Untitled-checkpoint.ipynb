{
 "cells": [
  {
   "cell_type": "code",
   "execution_count": 1,
   "id": "3f6249e3",
   "metadata": {},
   "outputs": [
    {
     "name": "stdout",
     "output_type": "stream",
     "text": [
      "[1, 2, 3]\n"
     ]
    }
   ],
   "source": [
    "print([1,2,3])\n"
   ]
  },
  {
   "cell_type": "code",
   "execution_count": 2,
   "id": "eb1c2853",
   "metadata": {},
   "outputs": [
    {
     "name": "stdout",
     "output_type": "stream",
     "text": [
      "[1, 2, 3]\n",
      "[4, 5, 6]\n",
      "[7, 8, 9]\n"
     ]
    }
   ],
   "source": [
    "print([1,2,3])\n",
    "print([4,5,6])\n",
    "print([7,8,9])\n"
   ]
  },
  {
   "cell_type": "code",
   "execution_count": 3,
   "id": "c48f0bf0",
   "metadata": {},
   "outputs": [],
   "source": [
    "def display(row1,row2,row3):\n",
    "    print(row1)\n",
    "    print(row2)\n",
    "    print(row3)\n"
   ]
  },
  {
   "cell_type": "code",
   "execution_count": 4,
   "id": "0cabe973",
   "metadata": {},
   "outputs": [],
   "source": [
    "example_row=[1,2,3]"
   ]
  },
  {
   "cell_type": "code",
   "execution_count": 5,
   "id": "5c741a97",
   "metadata": {},
   "outputs": [
    {
     "name": "stdout",
     "output_type": "stream",
     "text": [
      "[1, 2, 3]\n",
      "[1, 2, 3]\n",
      "[1, 2, 3]\n"
     ]
    }
   ],
   "source": [
    "display (example_row,example_row,example_row)"
   ]
  },
  {
   "cell_type": "code",
   "execution_count": 6,
   "id": "3f771a8b",
   "metadata": {},
   "outputs": [],
   "source": [
    "def display(row1,row2,row3):\n",
    "    print(row1)\n",
    "    print(row2)\n",
    "    print(row3)"
   ]
  },
  {
   "cell_type": "code",
   "execution_count": 7,
   "id": "4fc88f99",
   "metadata": {},
   "outputs": [],
   "source": [
    "row1 = ['','','']\n",
    "row2 = ['','','']\n",
    "row3 = ['','','']"
   ]
  },
  {
   "cell_type": "code",
   "execution_count": 8,
   "id": "99866c8c",
   "metadata": {},
   "outputs": [
    {
     "name": "stdout",
     "output_type": "stream",
     "text": [
      "['', '', '']\n",
      "['', '', '']\n",
      "['', '', '']\n"
     ]
    }
   ],
   "source": [
    "display(row1,row2,row3)\n"
   ]
  },
  {
   "cell_type": "code",
   "execution_count": 9,
   "id": "f60bad9f",
   "metadata": {},
   "outputs": [],
   "source": [
    "row2 [1] = 'x'"
   ]
  },
  {
   "cell_type": "code",
   "execution_count": 11,
   "id": "353776cd",
   "metadata": {},
   "outputs": [
    {
     "name": "stdout",
     "output_type": "stream",
     "text": [
      "['', '', '']\n",
      "['', 'x', '']\n",
      "['', '', '']\n"
     ]
    }
   ],
   "source": [
    "display(row1,row2,row3)"
   ]
  },
  {
   "cell_type": "code",
   "execution_count": 12,
   "id": "b1cf06cf",
   "metadata": {},
   "outputs": [
    {
     "name": "stdout",
     "output_type": "stream",
     "text": [
      "Please enter a value4\n"
     ]
    },
    {
     "data": {
      "text/plain": [
       "'4'"
      ]
     },
     "execution_count": 12,
     "metadata": {},
     "output_type": "execute_result"
    }
   ],
   "source": [
    "input('Please enter a value')"
   ]
  },
  {
   "cell_type": "code",
   "execution_count": 13,
   "id": "ca7f0ec6",
   "metadata": {},
   "outputs": [
    {
     "name": "stdout",
     "output_type": "stream",
     "text": [
      "Please enetr a value5\n"
     ]
    }
   ],
   "source": [
    "result = input('Please enetr a value')\n"
   ]
  },
  {
   "cell_type": "code",
   "execution_count": 14,
   "id": "048f407a",
   "metadata": {},
   "outputs": [
    {
     "data": {
      "text/plain": [
       "'5'"
      ]
     },
     "execution_count": 14,
     "metadata": {},
     "output_type": "execute_result"
    }
   ],
   "source": [
    "result"
   ]
  },
  {
   "cell_type": "code",
   "execution_count": 15,
   "id": "120e455b",
   "metadata": {},
   "outputs": [
    {
     "data": {
      "text/plain": [
       "str"
      ]
     },
     "execution_count": 15,
     "metadata": {},
     "output_type": "execute_result"
    }
   ],
   "source": [
    "type(result)"
   ]
  },
  {
   "cell_type": "code",
   "execution_count": 16,
   "id": "486790e1",
   "metadata": {},
   "outputs": [],
   "source": [
    "result_int = int (result)"
   ]
  },
  {
   "cell_type": "code",
   "execution_count": 17,
   "id": "0c32d0a5",
   "metadata": {},
   "outputs": [
    {
     "data": {
      "text/plain": [
       "int"
      ]
     },
     "execution_count": 17,
     "metadata": {},
     "output_type": "execute_result"
    }
   ],
   "source": [
    "type(result_int)"
   ]
  },
  {
   "cell_type": "code",
   "execution_count": 18,
   "id": "dbe19d2e",
   "metadata": {},
   "outputs": [
    {
     "data": {
      "text/plain": [
       "float"
      ]
     },
     "execution_count": 18,
     "metadata": {},
     "output_type": "execute_result"
    }
   ],
   "source": [
    "type(2.13)"
   ]
  },
  {
   "cell_type": "code",
   "execution_count": 19,
   "id": "eb6e02c2",
   "metadata": {},
   "outputs": [
    {
     "data": {
      "text/plain": [
       "2.13"
      ]
     },
     "execution_count": 19,
     "metadata": {},
     "output_type": "execute_result"
    }
   ],
   "source": [
    "float('2.13')"
   ]
  },
  {
   "cell_type": "code",
   "execution_count": null,
   "id": "f4400f19",
   "metadata": {},
   "outputs": [],
   "source": []
  }
 ],
 "metadata": {
  "kernelspec": {
   "display_name": "Python 3 (ipykernel)",
   "language": "python",
   "name": "python3"
  },
  "language_info": {
   "codemirror_mode": {
    "name": "ipython",
    "version": 3
   },
   "file_extension": ".py",
   "mimetype": "text/x-python",
   "name": "python",
   "nbconvert_exporter": "python",
   "pygments_lexer": "ipython3",
   "version": "3.10.9"
  }
 },
 "nbformat": 4,
 "nbformat_minor": 5
}
