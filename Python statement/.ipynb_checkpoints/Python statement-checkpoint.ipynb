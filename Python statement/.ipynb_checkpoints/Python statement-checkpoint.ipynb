{
 "cells": [
  {
   "cell_type": "code",
   "execution_count": 1,
   "id": "93796772",
   "metadata": {},
   "outputs": [],
   "source": [
    "#if,elf and else"
   ]
  },
  {
   "cell_type": "code",
   "execution_count": 1,
   "id": "36cea15f",
   "metadata": {},
   "outputs": [],
   "source": [
    "#if some_some condition\n",
    "   #do_something\n",
    "#else :\n",
    "  #do_something else"
   ]
  },
  {
   "cell_type": "code",
   "execution_count": 4,
   "id": "0a2e172f",
   "metadata": {},
   "outputs": [],
   "source": [
    "if True :\n",
    "    print:(\"It's True\")"
   ]
  },
  {
   "cell_type": "code",
   "execution_count": 7,
   "id": "11cd1d07",
   "metadata": {},
   "outputs": [],
   "source": [
    "if 3<2 :\n",
    "  print(\"It's True\")"
   ]
  },
  {
   "cell_type": "code",
   "execution_count": 9,
   "id": "fd537535",
   "metadata": {},
   "outputs": [
    {
     "name": "stdout",
     "output_type": "stream",
     "text": [
      "i'm not hungry\n"
     ]
    }
   ],
   "source": [
    "hungry = False\n",
    "if hungry :\n",
    "    print (\"feed me\")\n",
    "else :\n",
    "    print (\"i'm not hungry\")"
   ]
  },
  {
   "cell_type": "code",
   "execution_count": 10,
   "id": "9e7b686c",
   "metadata": {},
   "outputs": [
    {
     "name": "stdout",
     "output_type": "stream",
     "text": [
      "I don not know ,much\n"
     ]
    }
   ],
   "source": [
    "loc = 'Bank'\n",
    "if loc == 'Auto shop':\n",
    "    print ('cars are cool')\n",
    "else:\n",
    "    print ('I don not know ,much')\n",
    "    \n",
    "    "
   ]
  },
  {
   "cell_type": "code",
   "execution_count": null,
   "id": "7c7b780c",
   "metadata": {},
   "outputs": [],
   "source": [
    "name = 'asdasd'\n",
    "if name == 'Lakpa':\n",
    "    "
   ]
  }
 ],
 "metadata": {
  "kernelspec": {
   "display_name": "Python 3 (ipykernel)",
   "language": "python",
   "name": "python3"
  },
  "language_info": {
   "codemirror_mode": {
    "name": "ipython",
    "version": 3
   },
   "file_extension": ".py",
   "mimetype": "text/x-python",
   "name": "python",
   "nbconvert_exporter": "python",
   "pygments_lexer": "ipython3",
   "version": "3.10.9"
  }
 },
 "nbformat": 4,
 "nbformat_minor": 5
}
