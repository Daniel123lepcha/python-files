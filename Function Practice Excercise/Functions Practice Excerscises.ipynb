{
 "cells": [
  {
   "cell_type": "markdown",
   "id": "b707459f",
   "metadata": {},
   "source": [
    "LESSER OF TWO EVENS: Write a function that returns the lesser of two given numbers if\n",
    "both numbers are even, but returns the greater if one or both numbers are odd\n",
    "lesser_of_two_evens(2,4) --> 2\n",
    "lesser_of_two_evens(2,5) --> 5"
   ]
  },
  {
   "cell_type": "code",
   "execution_count": 1,
   "id": "41d83d03",
   "metadata": {},
   "outputs": [],
   "source": [
    "def lesser_of_two_evens (a,b):\n",
    "    if a % 2 == 0 and b % 2 ==0:\n",
    "        #Both are even\n",
    "        if a<b:\n",
    "            result = a\n",
    "        else:\n",
    "            result = b\n",
    "    else:\n",
    "        if a>b:\n",
    "            result = a\n",
    "        else:\n",
    "            result = b\n",
    "    return result\n",
    "            "
   ]
  },
  {
   "cell_type": "code",
   "execution_count": 2,
   "id": "60a1cba8",
   "metadata": {},
   "outputs": [
    {
     "data": {
      "text/plain": [
       "2"
      ]
     },
     "execution_count": 2,
     "metadata": {},
     "output_type": "execute_result"
    }
   ],
   "source": [
    "#Check \n",
    "lesser_of_two_evens(2,4)"
   ]
  },
  {
   "cell_type": "code",
   "execution_count": 3,
   "id": "2d119eed",
   "metadata": {},
   "outputs": [
    {
     "data": {
      "text/plain": [
       "5"
      ]
     },
     "execution_count": 3,
     "metadata": {},
     "output_type": "execute_result"
    }
   ],
   "source": [
    "#Check \n",
    "lesser_of_two_evens(2,5)"
   ]
  },
  {
   "cell_type": "code",
   "execution_count": 4,
   "id": "6413db71",
   "metadata": {},
   "outputs": [],
   "source": [
    "#cleaning the above code and writing  a more efficeient code\n",
    "def lesser_of_two_evens (a,b):\n",
    "    if a % 2 == 0 and b % 2 == 0:\n",
    "        result = min (a,b)\n",
    "    else:\n",
    "        result = max (a,b)\n",
    "    return result   "
   ]
  },
  {
   "cell_type": "code",
   "execution_count": 5,
   "id": "f2acd1c4",
   "metadata": {},
   "outputs": [
    {
     "data": {
      "text/plain": [
       "2"
      ]
     },
     "execution_count": 5,
     "metadata": {},
     "output_type": "execute_result"
    }
   ],
   "source": [
    "lesser_of_two_evens (2,4)"
   ]
  },
  {
   "cell_type": "code",
   "execution_count": 6,
   "id": "57a57250",
   "metadata": {},
   "outputs": [
    {
     "data": {
      "text/plain": [
       "5"
      ]
     },
     "execution_count": 6,
     "metadata": {},
     "output_type": "execute_result"
    }
   ],
   "source": [
    "lesser_of_two_evens (2,5)"
   ]
  },
  {
   "cell_type": "code",
   "execution_count": 10,
   "id": "2a7670c8",
   "metadata": {},
   "outputs": [],
   "source": [
    "#a more efficient code \n",
    "def lesser_of_two_evens (a,b):\n",
    "    if a % 2 == 0 and b % 2 == 0:\n",
    "        return min (a,b)\n",
    "    else:\n",
    "        return max(a,b)\n"
   ]
  },
  {
   "cell_type": "code",
   "execution_count": 11,
   "id": "57889d48",
   "metadata": {},
   "outputs": [
    {
     "data": {
      "text/plain": [
       "2"
      ]
     },
     "execution_count": 11,
     "metadata": {},
     "output_type": "execute_result"
    }
   ],
   "source": [
    "lesser_of_two_evens (2,4)"
   ]
  },
  {
   "cell_type": "code",
   "execution_count": 12,
   "id": "b6601202",
   "metadata": {},
   "outputs": [
    {
     "data": {
      "text/plain": [
       "5"
      ]
     },
     "execution_count": 12,
     "metadata": {},
     "output_type": "execute_result"
    }
   ],
   "source": [
    "lesser_of_two_evens (2,5)"
   ]
  },
  {
   "cell_type": "markdown",
   "id": "e498f524",
   "metadata": {},
   "source": [
    "ANIMAL CRACKERS: Write a function takes a two-word string and returns True if both\n",
    "words begin with same letter\n",
    "animal_crackers('Levelheaded Llama') --> True\n",
    "animal_crackers('Crazy Kangaroo') --> False"
   ]
  },
  {
   "cell_type": "code",
   "execution_count": 13,
   "id": "182d9194",
   "metadata": {},
   "outputs": [],
   "source": [
    "def animal_crackers(text):\n",
    "    wordlist = text.split()\n",
    "    first = wordlist[0]\n",
    "    second = wordlist[1]\n",
    "    return first[0] == second[0]"
   ]
  },
  {
   "cell_type": "code",
   "execution_count": 14,
   "id": "c24fb1b5",
   "metadata": {},
   "outputs": [
    {
     "data": {
      "text/plain": [
       "True"
      ]
     },
     "execution_count": 14,
     "metadata": {},
     "output_type": "execute_result"
    }
   ],
   "source": [
    "# Check\n",
    "animal_crackers('Levelheaded Llama')"
   ]
  },
  {
   "cell_type": "code",
   "execution_count": 15,
   "id": "647e5ce3",
   "metadata": {},
   "outputs": [
    {
     "data": {
      "text/plain": [
       "False"
      ]
     },
     "execution_count": 15,
     "metadata": {},
     "output_type": "execute_result"
    }
   ],
   "source": [
    "# Check\n",
    "animal_crackers('Crazy Kangaroo')"
   ]
  },
  {
   "cell_type": "code",
   "execution_count": 16,
   "id": "2412fce2",
   "metadata": {},
   "outputs": [],
   "source": [
    "#Using double index and comparing without being case seinsitive"
   ]
  },
  {
   "cell_type": "code",
   "execution_count": 17,
   "id": "b169ee02",
   "metadata": {},
   "outputs": [],
   "source": [
    "def animal_crackers(text):\n",
    "    wordlist = text.lower().split()\n",
    "    #print(wordlist)\n",
    "    #print(wordlist[0][0])\n",
    "    #print(wordlist[1][0])\n",
    "    return wordlist[0][0] == wordlist[1][0]"
   ]
  },
  {
   "cell_type": "code",
   "execution_count": 18,
   "id": "a9c95879",
   "metadata": {},
   "outputs": [
    {
     "data": {
      "text/plain": [
       "True"
      ]
     },
     "execution_count": 18,
     "metadata": {},
     "output_type": "execute_result"
    }
   ],
   "source": [
    "animal_crackers('Levelheaded Llama')"
   ]
  },
  {
   "cell_type": "code",
   "execution_count": 19,
   "id": "b828e769",
   "metadata": {},
   "outputs": [
    {
     "data": {
      "text/plain": [
       "False"
      ]
     },
     "execution_count": 19,
     "metadata": {},
     "output_type": "execute_result"
    }
   ],
   "source": [
    "animal_crackers('Crazy Kangaroo')"
   ]
  },
  {
   "cell_type": "markdown",
   "id": "0e66f55e",
   "metadata": {},
   "source": [
    "MAKES TWENTY: Given two integers, return True if the sum of the integers is 20 or if\n",
    "one of the integers is 20. If not, return False\n",
    "makes_twenty(20,10) --> True\n",
    "makes_twenty(12,8) --> True\n",
    "makes_twenty(2,3) --> False"
   ]
  },
  {
   "cell_type": "code",
   "execution_count": 20,
   "id": "44ef3557",
   "metadata": {},
   "outputs": [],
   "source": [
    "def makes_twenty(n1,n2):\n",
    "     if n1+n2 == 20:\n",
    "        return True\n",
    "     elif n1 == 20:\n",
    "        return True\n",
    "     elif n2 == 20:\n",
    "        return True\n",
    "     else:\n",
    "        return False"
   ]
  },
  {
   "cell_type": "code",
   "execution_count": 21,
   "id": "9473a6d7",
   "metadata": {},
   "outputs": [
    {
     "data": {
      "text/plain": [
       "True"
      ]
     },
     "execution_count": 21,
     "metadata": {},
     "output_type": "execute_result"
    }
   ],
   "source": [
    "# Check\n",
    "makes_twenty(20,10)"
   ]
  },
  {
   "cell_type": "code",
   "execution_count": 22,
   "id": "83f61060",
   "metadata": {},
   "outputs": [
    {
     "data": {
      "text/plain": [
       "False"
      ]
     },
     "execution_count": 22,
     "metadata": {},
     "output_type": "execute_result"
    }
   ],
   "source": [
    "# Check\n",
    "makes_twenty(2,3)"
   ]
  },
  {
   "cell_type": "code",
   "execution_count": 23,
   "id": "ebdf9dd9",
   "metadata": {},
   "outputs": [],
   "source": [
    "#A more clean code\n",
    "def makes_twenty(n1,n2):\n",
    "    return n1+n2 == 20  or n1 == 20 or n2 ==20"
   ]
  },
  {
   "cell_type": "code",
   "execution_count": 24,
   "id": "2d860ce3",
   "metadata": {},
   "outputs": [
    {
     "data": {
      "text/plain": [
       "True"
      ]
     },
     "execution_count": 24,
     "metadata": {},
     "output_type": "execute_result"
    }
   ],
   "source": [
    "makes_twenty (20,10)"
   ]
  },
  {
   "cell_type": "code",
   "execution_count": 25,
   "id": "fdb4bdb0",
   "metadata": {},
   "outputs": [
    {
     "data": {
      "text/plain": [
       "False"
      ]
     },
     "execution_count": 25,
     "metadata": {},
     "output_type": "execute_result"
    }
   ],
   "source": [
    "makes_twenty (2,3)"
   ]
  },
  {
   "cell_type": "markdown",
   "id": "f3689152",
   "metadata": {},
   "source": [
    "LEVEL 1 PROBLEMS\n",
    "\n",
    "OLD MACDONALD: Write a function that capitalizes the first and fourth letters of a\n",
    "name\n",
    "old_macdonald('macdonald') --> MacDonald\n",
    "\n",
    "Note: 'macdonald'.capitalize() returns 'Macdonald'"
   ]
  },
  {
   "cell_type": "code",
   "execution_count": 33,
   "id": "85b0623f",
   "metadata": {},
   "outputs": [],
   "source": [
    "#using upper \n",
    "def old_macdonald (name):\n",
    "    first = name [0]\n",
    "    #print (first)\n",
    "    in_between = name [1:3]\n",
    "    #print (in_between)\n",
    "    fourth : name [3]\n",
    "    #print (fourth) \n",
    "    rest = name [4:]\n",
    "    #print(rest)\n",
    "    return first.upper()+in_between+fourth.upper()+rest"
   ]
  },
  {
   "cell_type": "code",
   "execution_count": 37,
   "id": "0e9ede6a",
   "metadata": {},
   "outputs": [
    {
     "ename": "UnboundLocalError",
     "evalue": "local variable 'fourth' referenced before assignment",
     "output_type": "error",
     "traceback": [
      "\u001b[1;31m---------------------------------------------------------------------------\u001b[0m",
      "\u001b[1;31mUnboundLocalError\u001b[0m                         Traceback (most recent call last)",
      "Cell \u001b[1;32mIn[37], line 2\u001b[0m\n\u001b[0;32m      1\u001b[0m \u001b[38;5;66;03m#check\u001b[39;00m\n\u001b[1;32m----> 2\u001b[0m \u001b[43mold_macdonald\u001b[49m\u001b[43m \u001b[49m\u001b[43m(\u001b[49m\u001b[38;5;124;43m'\u001b[39;49m\u001b[38;5;124;43mmacdonald\u001b[39;49m\u001b[38;5;124;43m'\u001b[39;49m\u001b[43m)\u001b[49m\n",
      "Cell \u001b[1;32mIn[33], line 11\u001b[0m, in \u001b[0;36mold_macdonald\u001b[1;34m(name)\u001b[0m\n\u001b[0;32m      9\u001b[0m rest \u001b[38;5;241m=\u001b[39m name [\u001b[38;5;241m4\u001b[39m:]\n\u001b[0;32m     10\u001b[0m \u001b[38;5;66;03m#print(rest)\u001b[39;00m\n\u001b[1;32m---> 11\u001b[0m \u001b[38;5;28;01mreturn\u001b[39;00m first\u001b[38;5;241m.\u001b[39mupper()\u001b[38;5;241m+\u001b[39min_between\u001b[38;5;241m+\u001b[39m\u001b[43mfourth\u001b[49m\u001b[38;5;241m.\u001b[39mupper()\u001b[38;5;241m+\u001b[39mrest\n",
      "\u001b[1;31mUnboundLocalError\u001b[0m: local variable 'fourth' referenced before assignment"
     ]
    }
   ],
   "source": [
    "#check\n",
    "old_macdonald ('macdonald')"
   ]
  },
  {
   "cell_type": "code",
   "execution_count": null,
   "id": "1a015837",
   "metadata": {},
   "outputs": [],
   "source": []
  },
  {
   "cell_type": "code",
   "execution_count": null,
   "id": "222bbe7c",
   "metadata": {},
   "outputs": [],
   "source": []
  }
 ],
 "metadata": {
  "kernelspec": {
   "display_name": "Python 3 (ipykernel)",
   "language": "python",
   "name": "python3"
  },
  "language_info": {
   "codemirror_mode": {
    "name": "ipython",
    "version": 3
   },
   "file_extension": ".py",
   "mimetype": "text/x-python",
   "name": "python",
   "nbconvert_exporter": "python",
   "pygments_lexer": "ipython3",
   "version": "3.10.9"
  }
 },
 "nbformat": 4,
 "nbformat_minor": 5
}
