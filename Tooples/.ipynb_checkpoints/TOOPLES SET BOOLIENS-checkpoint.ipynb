{
 "cells": [
  {
   "cell_type": "code",
   "execution_count": 12,
   "id": "6fb7d4f1",
   "metadata": {},
   "outputs": [],
   "source": [
    "#tuples have ()"
   ]
  },
  {
   "cell_type": "code",
   "execution_count": 13,
   "id": "e3262a51",
   "metadata": {},
   "outputs": [],
   "source": [
    "m_list =[1,23,43,324]"
   ]
  },
  {
   "cell_type": "code",
   "execution_count": 14,
   "id": "7d129a66",
   "metadata": {},
   "outputs": [],
   "source": [
    "m_tup=(1,2,3,5)"
   ]
  },
  {
   "cell_type": "code",
   "execution_count": 15,
   "id": "c0ce6ba9",
   "metadata": {},
   "outputs": [
    {
     "data": {
      "text/plain": [
       "list"
      ]
     },
     "execution_count": 15,
     "metadata": {},
     "output_type": "execute_result"
    }
   ],
   "source": [
    "type (m_list)"
   ]
  },
  {
   "cell_type": "code",
   "execution_count": 16,
   "id": "2ee58b2b",
   "metadata": {},
   "outputs": [
    {
     "data": {
      "text/plain": [
       "tuple"
      ]
     },
     "execution_count": 16,
     "metadata": {},
     "output_type": "execute_result"
    }
   ],
   "source": [
    "type (m_tup)"
   ]
  },
  {
   "cell_type": "code",
   "execution_count": 17,
   "id": "1e7e9538",
   "metadata": {},
   "outputs": [
    {
     "data": {
      "text/plain": [
       "4"
      ]
     },
     "execution_count": 17,
     "metadata": {},
     "output_type": "execute_result"
    }
   ],
   "source": [
    "len   (m_tup)"
   ]
  },
  {
   "cell_type": "code",
   "execution_count": 18,
   "id": "e8ce4279",
   "metadata": {},
   "outputs": [
    {
     "data": {
      "text/plain": [
       "5"
      ]
     },
     "execution_count": 18,
     "metadata": {},
     "output_type": "execute_result"
    }
   ],
   "source": [
    "m_tup [-1]"
   ]
  },
  {
   "cell_type": "code",
   "execution_count": 19,
   "id": "0e0eba87",
   "metadata": {},
   "outputs": [],
   "source": [
    "t=('a','a','b','c','c','d','e')"
   ]
  },
  {
   "cell_type": "code",
   "execution_count": 20,
   "id": "4eee758c",
   "metadata": {},
   "outputs": [
    {
     "data": {
      "text/plain": [
       "2"
      ]
     },
     "execution_count": 20,
     "metadata": {},
     "output_type": "execute_result"
    }
   ],
   "source": [
    "t.count ('a')"
   ]
  },
  {
   "cell_type": "code",
   "execution_count": 21,
   "id": "187f4126",
   "metadata": {},
   "outputs": [
    {
     "data": {
      "text/plain": [
       "2"
      ]
     },
     "execution_count": 21,
     "metadata": {},
     "output_type": "execute_result"
    }
   ],
   "source": [
    "t.count('c')"
   ]
  },
  {
   "cell_type": "code",
   "execution_count": 22,
   "id": "149e8c65",
   "metadata": {},
   "outputs": [
    {
     "data": {
      "text/plain": [
       "0"
      ]
     },
     "execution_count": 22,
     "metadata": {},
     "output_type": "execute_result"
    }
   ],
   "source": [
    "t.index ('a')"
   ]
  },
  {
   "cell_type": "code",
   "execution_count": 23,
   "id": "3cfc13fb",
   "metadata": {},
   "outputs": [
    {
     "data": {
      "text/plain": [
       "[1, 23, 43, 324]"
      ]
     },
     "execution_count": 23,
     "metadata": {},
     "output_type": "execute_result"
    }
   ],
   "source": [
    "m_list"
   ]
  },
  {
   "cell_type": "code",
   "execution_count": 24,
   "id": "76b515a5",
   "metadata": {},
   "outputs": [],
   "source": [
    "m_list [1] = 44"
   ]
  },
  {
   "cell_type": "code",
   "execution_count": 25,
   "id": "4663e991",
   "metadata": {},
   "outputs": [
    {
     "data": {
      "text/plain": [
       "[1, 44, 43, 324]"
      ]
     },
     "execution_count": 25,
     "metadata": {},
     "output_type": "execute_result"
    }
   ],
   "source": [
    "m_list"
   ]
  },
  {
   "cell_type": "code",
   "execution_count": 26,
   "id": "3843613a",
   "metadata": {},
   "outputs": [
    {
     "data": {
      "text/plain": [
       "(1, 2, 3, 5)"
      ]
     },
     "execution_count": 26,
     "metadata": {},
     "output_type": "execute_result"
    }
   ],
   "source": [
    "m_tup"
   ]
  },
  {
   "cell_type": "code",
   "execution_count": 27,
   "id": "fb16bd59",
   "metadata": {},
   "outputs": [
    {
     "ename": "TypeError",
     "evalue": "'tuple' object does not support item assignment",
     "output_type": "error",
     "traceback": [
      "\u001b[1;31m---------------------------------------------------------------------------\u001b[0m",
      "\u001b[1;31mTypeError\u001b[0m                                 Traceback (most recent call last)",
      "Cell \u001b[1;32mIn[27], line 1\u001b[0m\n\u001b[1;32m----> 1\u001b[0m m_tup[\u001b[38;5;241m1\u001b[39m] \u001b[38;5;241m=\u001b[39m\u001b[38;5;241m33\u001b[39m\n",
      "\u001b[1;31mTypeError\u001b[0m: 'tuple' object does not support item assignment"
     ]
    }
   ],
   "source": [
    "m_tup[1] =33"
   ]
  },
  {
   "cell_type": "code",
   "execution_count": 28,
   "id": "eeab56fc",
   "metadata": {},
   "outputs": [],
   "source": [
    "#Set in Python"
   ]
  },
  {
   "cell_type": "code",
   "execution_count": 29,
   "id": "03ee9164",
   "metadata": {},
   "outputs": [],
   "source": [
    "myset =set ()"
   ]
  },
  {
   "cell_type": "code",
   "execution_count": 30,
   "id": "922471ce",
   "metadata": {},
   "outputs": [
    {
     "data": {
      "text/plain": [
       "set()"
      ]
     },
     "execution_count": 30,
     "metadata": {},
     "output_type": "execute_result"
    }
   ],
   "source": [
    "myset"
   ]
  },
  {
   "cell_type": "code",
   "execution_count": 31,
   "id": "2221b2dd",
   "metadata": {},
   "outputs": [],
   "source": [
    "myset.add (1)"
   ]
  },
  {
   "cell_type": "code",
   "execution_count": 32,
   "id": "288f15ec",
   "metadata": {},
   "outputs": [
    {
     "data": {
      "text/plain": [
       "{1}"
      ]
     },
     "execution_count": 32,
     "metadata": {},
     "output_type": "execute_result"
    }
   ],
   "source": [
    "myset"
   ]
  },
  {
   "cell_type": "code",
   "execution_count": 33,
   "id": "50e05efa",
   "metadata": {},
   "outputs": [],
   "source": [
    "myset.add (2)"
   ]
  },
  {
   "cell_type": "code",
   "execution_count": 34,
   "id": "265e144f",
   "metadata": {},
   "outputs": [
    {
     "data": {
      "text/plain": [
       "{1, 2}"
      ]
     },
     "execution_count": 34,
     "metadata": {},
     "output_type": "execute_result"
    }
   ],
   "source": [
    "myset"
   ]
  },
  {
   "cell_type": "code",
   "execution_count": 35,
   "id": "93427acb",
   "metadata": {},
   "outputs": [],
   "source": [
    "mylist = [3,3,4,5,5,6,7,1,1]"
   ]
  },
  {
   "cell_type": "code",
   "execution_count": 36,
   "id": "25db2ce3",
   "metadata": {},
   "outputs": [
    {
     "data": {
      "text/plain": [
       "[3, 3, 4, 5, 5, 6, 7, 1, 1]"
      ]
     },
     "execution_count": 36,
     "metadata": {},
     "output_type": "execute_result"
    }
   ],
   "source": [
    "mylist"
   ]
  },
  {
   "cell_type": "code",
   "execution_count": 37,
   "id": "48d4cfbe",
   "metadata": {},
   "outputs": [
    {
     "data": {
      "text/plain": [
       "{1, 3, 4, 5, 6, 7}"
      ]
     },
     "execution_count": 37,
     "metadata": {},
     "output_type": "execute_result"
    }
   ],
   "source": [
    "set(mylist)"
   ]
  },
  {
   "cell_type": "code",
   "execution_count": 38,
   "id": "87d323cd",
   "metadata": {},
   "outputs": [],
   "source": [
    "#booleans in Python"
   ]
  },
  {
   "cell_type": "code",
   "execution_count": 39,
   "id": "b16e8ad7",
   "metadata": {},
   "outputs": [
    {
     "data": {
      "text/plain": [
       "True"
      ]
     },
     "execution_count": 39,
     "metadata": {},
     "output_type": "execute_result"
    }
   ],
   "source": [
    "True"
   ]
  },
  {
   "cell_type": "code",
   "execution_count": 40,
   "id": "ff01219e",
   "metadata": {},
   "outputs": [
    {
     "data": {
      "text/plain": [
       "False"
      ]
     },
     "execution_count": 40,
     "metadata": {},
     "output_type": "execute_result"
    }
   ],
   "source": [
    "False"
   ]
  },
  {
   "cell_type": "code",
   "execution_count": 41,
   "id": "f7246562",
   "metadata": {},
   "outputs": [
    {
     "data": {
      "text/plain": [
       "False"
      ]
     },
     "execution_count": 41,
     "metadata": {},
     "output_type": "execute_result"
    }
   ],
   "source": [
    "1>2"
   ]
  },
  {
   "cell_type": "code",
   "execution_count": 43,
   "id": "75a2a7c2",
   "metadata": {},
   "outputs": [
    {
     "data": {
      "text/plain": [
       "True"
      ]
     },
     "execution_count": 43,
     "metadata": {},
     "output_type": "execute_result"
    }
   ],
   "source": [
    "1<2"
   ]
  },
  {
   "cell_type": "code",
   "execution_count": 44,
   "id": "7a042a44",
   "metadata": {},
   "outputs": [
    {
     "data": {
      "text/plain": [
       "True"
      ]
     },
     "execution_count": 44,
     "metadata": {},
     "output_type": "execute_result"
    }
   ],
   "source": [
    "1==1"
   ]
  },
  {
   "cell_type": "code",
   "execution_count": 45,
   "id": "c7fe3265",
   "metadata": {},
   "outputs": [],
   "source": [
    "b= None"
   ]
  },
  {
   "cell_type": "code",
   "execution_count": 46,
   "id": "cbd73c2d",
   "metadata": {},
   "outputs": [
    {
     "data": {
      "text/plain": [
       "NoneType"
      ]
     },
     "execution_count": 46,
     "metadata": {},
     "output_type": "execute_result"
    }
   ],
   "source": [
    "type(b)"
   ]
  },
  {
   "cell_type": "code",
   "execution_count": null,
   "id": "b6332752",
   "metadata": {},
   "outputs": [],
   "source": []
  }
 ],
 "metadata": {
  "kernelspec": {
   "display_name": "Python 3 (ipykernel)",
   "language": "python",
   "name": "python3"
  },
  "language_info": {
   "codemirror_mode": {
    "name": "ipython",
    "version": 3
   },
   "file_extension": ".py",
   "mimetype": "text/x-python",
   "name": "python",
   "nbconvert_exporter": "python",
   "pygments_lexer": "ipython3",
   "version": "3.10.9"
  }
 },
 "nbformat": 4,
 "nbformat_minor": 5
}
